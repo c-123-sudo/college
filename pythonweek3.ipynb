{
 "cells": [
  {
   "cell_type": "code",
   "execution_count": 8,
   "id": "837d1410-24d1-42a6-8a8c-e3b61a8f94e0",
   "metadata": {},
   "outputs": [
    {
     "name": "stdout",
     "output_type": "stream",
     "text": [
      "Data written to example.txt\n"
     ]
    }
   ],
   "source": [
    "\n",
    "def write_to_file(filename,content):\n",
    "    with open(filename,'w') as file:\n",
    "        file.write(content)\n",
    "    print(f\"Data written to {filename}\")\n",
    "write_to_file(\"example.txt\",\"Hello,this is a sample file.\\nWelcome to Python file handling!\")\n",
    "\n"
   ]
  },
  {
   "cell_type": "code",
   "execution_count": 12,
   "id": "1f6b3a88-505f-4b0f-a78d-76b2ea3f6e6b",
   "metadata": {},
   "outputs": [
    {
     "name": "stdout",
     "output_type": "stream",
     "text": [
      "Content of example.txt:\n",
      "Hello,this is a sample file.\n",
      "Welcome to Python file handling!\n"
     ]
    }
   ],
   "source": [
    "\n",
    "\n",
    "def read_from_file(filename):\n",
    "    try:\n",
    "        with open(filename,'r')as file:\n",
    "            content=file.read()\n",
    "            print(f\"Content of {filename}:\")\n",
    "            print(content)\n",
    "    except FileNotFoundError:\n",
    "      print(f\"Error: {filename}does not exist!\")\n",
    "read_from_file(\"example.txt\")\n",
    "\n",
    "\n",
    "\n",
    "\n",
    "            \n"
   ]
  },
  {
   "cell_type": "code",
   "execution_count": 18,
   "id": "e611e865-b714-4be9-ab71-122378fd4215",
   "metadata": {},
   "outputs": [
    {
     "name": "stdout",
     "output_type": "stream",
     "text": [
      "Moved example.txt to Organized_Files/\n"
     ]
    }
   ],
   "source": [
    "\n",
    "import os\n",
    "def organize_files(folder_name,file_list):\n",
    "    if not os.path.exists(folder_name):\n",
    "        os.makedirs(folder_name)\n",
    "    for file in file_list:\n",
    "        if os.path.exists(file):\n",
    "            os.rename(file,os.path.join(folder_name,file))\n",
    "            print(f\"Moved {file} to {folder_name}/\")\n",
    "        else:\n",
    "            print(f\"File{file} not found!\")\n",
    "organize_files(\"Organized_Files\",[\"example.txt\"])\n",
    "\n",
    "\n",
    "\n"
   ]
  },
  {
   "cell_type": "code",
   "execution_count": 20,
   "id": "5bbc4a86-d0c3-4479-b499-dd6e818d9490",
   "metadata": {
    "scrolled": true
   },
   "outputs": [
    {
     "name": "stdout",
     "output_type": "stream",
     "text": [
      "Data written to example.txt\n",
      "Content of example.txt:\n",
      "Hello,this is a sample file.\n",
      "Welcome to Python file handling!\n",
      "Moved example.txt to Organized_Files/\n"
     ]
    }
   ],
   "source": [
    "def write_to_file(filename,content):\n",
    "    with open(filename,'w') as file:\n",
    "        file.write(content)\n",
    "    print(f\"Data written to {filename}\")\n",
    "write_to_file(\"example.txt\",\"Hello,this is a sample file.\\nWelcome to Python file handling!\")\n",
    "\n",
    "def read_from_file(filename):\n",
    "    try:\n",
    "        with open(filename,'r')as file:\n",
    "            content=file.read()\n",
    "            print(f\"Content of {filename}:\")\n",
    "            print(content)\n",
    "    except FileNotFoundError:\n",
    "      print(f\"Error: {filename}does not exist!\")\n",
    "read_from_file(\"example.txt\")\n",
    "\n",
    "import os\n",
    "def organize_files(folder_name,file_list):\n",
    "    if not os.path.exists(folder_name):\n",
    "        os.makedirs(folder_name)\n",
    "    for file in file_list:\n",
    "        if os.path.exists(file):\n",
    "            os.rename(file,os.path.join(folder_name,file))\n",
    "            print(f\"Moved {file} to {folder_name}/\")\n",
    "        else:\n",
    "            print(f\"File{file} not found!\")\n",
    "organize_files(\"Organized_Files\",[\"example.txt\"])\n"
   ]
  },
  {
   "cell_type": "code",
   "execution_count": 24,
   "id": "e47e7e49-84b0-4e2d-820f-e52f6d998361",
   "metadata": {},
   "outputs": [
    {
     "name": "stdout",
     "output_type": "stream",
     "text": [
      "Content appended to example.txt\n"
     ]
    }
   ],
   "source": [
    "\n",
    "def append_to_file(filename, content):\n",
    "    with open(filename, 'a') as file:  \n",
    "        file.write(content)  \n",
    "    print(f\"Content appended to {filename}\")\n",
    "\n",
    "\n",
    "append_to_file(\"example.txt\", \"ARTIFICIAL INTELLIGENCE AND MACHINE LEARNING!\\n\")\n",
    "\n",
    "\n",
    "\n"
   ]
  },
  {
   "cell_type": "code",
   "execution_count": 26,
   "id": "88f2ae67-fddf-4418-9320-20a6d2ca6cb2",
   "metadata": {},
   "outputs": [
    {
     "name": "stdout",
     "output_type": "stream",
     "text": [
      "Moved example.txt to Organized_Files/\n"
     ]
    }
   ],
   "source": [
    "import os\n",
    "def organize_file(folder_name,file_list):\n",
    "    if not os.path.exists(folder_name):\n",
    "        os.makedirs(folder_name)\n",
    "    for file in file_list:\n",
    "        if os.path.exists(file):\n",
    "            os.rename(file,os.path.join(folder_name,file))\n",
    "            print(f\"Moved {file} to {folder_name}/\")\n",
    "        else:\n",
    "            print(f\"File{file} not found!\")\n",
    "organize_file(\"Organized_Files\",[\"example.txt\"])\n"
   ]
  },
  {
   "cell_type": "code",
   "execution_count": null,
   "id": "fabebc9c-d635-4578-a868-92cd6f7b81bd",
   "metadata": {},
   "outputs": [],
   "source": []
  }
 ],
 "metadata": {
  "kernelspec": {
   "display_name": "Python 3 (ipykernel)",
   "language": "python",
   "name": "python3"
  },
  "language_info": {
   "codemirror_mode": {
    "name": "ipython",
    "version": 3
   },
   "file_extension": ".py",
   "mimetype": "text/x-python",
   "name": "python",
   "nbconvert_exporter": "python",
   "pygments_lexer": "ipython3",
   "version": "3.12.7"
  }
 },
 "nbformat": 4,
 "nbformat_minor": 5
}
